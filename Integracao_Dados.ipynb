{
 "cells":[
  {
   "cell_type":"markdown",
   "source":[
    "# GetData"
   ],
   "attachments":{
    
   },
   "metadata":{
    "datalore":{
     "node_id":"GetData",
     "type":"MD",
     "hide_input_from_viewers":false,
     "hide_output_from_viewers":false,
     "sheet_delimiter":true
    }
   }
  },
  {
   "cell_type":"code",
   "source":[
    "\"\"\"  Importação das bibliotecas necessárias \"\"\"\n",
    "import pandas as pd\n",
    "import yfinance as yf\n",
    "import matplotlib.pyplot as plt\n",
    "import numpy as np\n",
    "import sqlalchemy as db\n",
    "from sqlalchemy.ext.declarative import declarative_base\n",
    "import os\n",
    "from datetime import date\n",
    "from datetime import datetime\n",
    "from datetime import timedelta\n",
    "from urllib.parse import quote_plus"
   ],
   "execution_count":2,
   "outputs":[
    
   ],
   "metadata":{
    "datalore":{
     "node_id":"crqg7v5i5qYJZTgKpF84d1",
     "type":"CODE",
     "hide_input_from_viewers":true,
     "hide_output_from_viewers":true
    }
   }
  },
  {
   "cell_type":"code",
   "source":[
    "def get_connection_string(debug=False):\n",
    "    str_conn = os.environ[\"sql_connection\"].format(\n",
    "        os.environ[\"db_uid\"], \n",
    "        quote_plus(os.environ[\"db_pwd\"]), \n",
    "        os.environ[\"db_server\"], \n",
    "        os.environ[\"db_name\"])\n",
    "    \n",
    "    if(debug):\n",
    "        print(str_conn)\n",
    "\n",
    "    return  str_conn\n",
    "\n",
    "get_connection_string()"
   ],
   "execution_count":3,
   "outputs":[
    {
     "data":{
      "text\/plain":[
       "'mssql+pymssql:\/\/usr:123@localhost\/invest_db'"
      ]
     },
     "metadata":{
      
     },
     "output_type":"display_data"
    }
   ],
   "metadata":{
    "datalore":{
     "node_id":"TILfBgQnbsvAptSrfub7i4",
     "type":"CODE",
     "hide_input_from_viewers":true,
     "hide_output_from_viewers":true
    }
   }
  },
  {
   "cell_type":"code",
   "source":[
    "\"\"\" Retornar a conexão com o banco de dados \"\"\"\n",
    "def get_session():\n",
    "    str_conn = get_connection_string()\n",
    "\n",
    "    engine = db.create_engine(str_conn)\n",
    "    Session = db.orm.sessionmaker(bind=engine)\n",
    "\n",
    "    session = Session()\n",
    "    return session"
   ],
   "execution_count":4,
   "outputs":[
    
   ],
   "metadata":{
    "datalore":{
     "node_id":"OAEBW2Fsc11xyDqcsC3tK9",
     "type":"CODE",
     "hide_input_from_viewers":true,
     "hide_output_from_viewers":true
    }
   }
  },
  {
   "cell_type":"code",
   "source":[
    "''' Declaração das classes '''\n",
    "Base = declarative_base()\n",
    "\n",
    "class Stock(Base):\n",
    "    \"\"\" Representação da classe stocks (ações) \"\"\"\n",
    "    __tablename__ = 'stocks'\n",
    "\n",
    "    id = db.Column(\"id\", db.BIGINT, primary_key=True)\n",
    "    code = db.Column('code', db.VARCHAR(20))\n",
    "    description = db.Column('description', db.VARCHAR(200))\n",
    "    last_integration = db.Column('last_integration', db.DATETIME)\n",
    "    \n",
    "    def __str__(self):\n",
    "        return \"Id: {0}\\tCode: {1}\\tLast Integration: {2}\" \\\n",
    "    .format(self.id, self.code, self.last_integration)\n",
    "    \n",
    "    def __repr__(self):\n",
    "        return str(self)\n",
    "\n",
    "class StockData(Base):\n",
    "    \"\"\" Representação da classe dos dados das ações por data (diariamente) \"\"\"\n",
    "    __tablename__ = 'stock_data'\n",
    "\n",
    "    id = db.Column(\"id\", db.BIGINT, primary_key=True)\n",
    "    stock_id = db.Column(\"stock_id\",db.BIGINT , db.ForeignKey(\"stocks.id\"))\n",
    "    stock = db.orm.relationship(\"Stock\", backref=\"stock_data\")\n",
    "    date = db.Column(\"stock_date\", db.DATE, nullable=False)\n",
    "    open = db.Column('open_value', db.FLOAT)\n",
    "    high = db.Column('high_value', db.FLOAT)\n",
    "    low = db.Column('low_value', db.FLOAT)\n",
    "    close = db.Column('close_value', db.FLOAT)\n",
    "    adj = db.Column('adjclose_value', db.FLOAT)\n",
    "    volume = db.Column('volume_value', db.FLOAT)\n",
    "\n",
    "    def __init__(self, stock, period, data=None, index=None):\n",
    "        self.stock_id=stock.id\n",
    "        self.date=period\n",
    "        if (data is not None):\n",
    "            self.open=data['Open'][index]\n",
    "            self.high=data['High'][index]\n",
    "            self.low=data['Low'][index]\n",
    "            self.close=data['Close'][index]\n",
    "            self.adj=data['Adj Close'][index]\n",
    "            self.volume=data['Volume'][index]\n",
    "\n",
    "        self.open = 0 if self.open is None else self.open\n",
    "        self.high = 0 if self.high is None else self.open\n",
    "        self.low = 0 if self.low is None else self.open\n",
    "        self.close = 0 if self.close is None else self.open\n",
    "        self.adj = 0 if self.adj is None else self.open\n",
    "        self.volume = 0 if self.volume is None else self.open\n",
    "\n",
    "    def __str__(self):\n",
    "        return \"Id: {0}, Date: {1}, Open: {2},\\tHigh:{3},\\t<<Stock: {4}>>\" \\\n",
    "    .format(self.id, self.date, self.open, self.high, self.stock)\n",
    "    \n",
    "    def __repr__(self):\n",
    "        return str(self)\n",
    "\n",
    "class StockCalculation(Base):\n",
    "    \"\"\" Representação da classe stock_calculation (cálculo) \"\"\"\n",
    "    __tablename__ = 'stock_calculation'\n",
    "\n",
    "    id = db.Column(\"id\", db.BIGINT, primary_key=True, autoincrement=True)\n",
    "    stock_data_id = db.Column(\"stock_data_id\",db.BIGINT , db.ForeignKey(\"stock_data.id\"))\n",
    "    stockdata = db.orm.relationship(\"StockData\", backref=\"stock_calculation\")\n",
    "    date = db.Column(\"stock_date\", db.DATE, nullable=False)\n",
    "    process_date = db.Column('process_date', db.DATETIME)\n",
    "    results = db.Column('results', db.FLOAT)\n",
    "    positive = db.Column('positive', db.FLOAT)\n",
    "    negative = db.Column('negative', db.FLOAT)\n",
    "    positive_mean = db.Column('positive_mean', db.FLOAT)\n",
    "    negative_mean = db.Column('negative_mean', db.FLOAT)\n",
    "    rsi = db.Column('rsi', db.FLOAT)\n",
    "    opportunity = db.Column('opportunity', db.BOOLEAN)\n",
    "    to_buy = db.Column('to_buy', db.BOOLEAN)\n",
    "    to_sell = db.Column('to_sell', db.BOOLEAN)\n",
    "\n",
    "    @staticmethod\n",
    "    def create(stockdata_id, period):\n",
    "        cls = StockCalculation()\n",
    "        cls.stock_data_id=stockdata_id\n",
    "        cls.date=period\n",
    "        cls.process_date=date.today()\n",
    "        cls.results=0\n",
    "        cls.positive=0\n",
    "        cls.negative=0\n",
    "        cls.positive_mean=0\n",
    "        cls.negative_mean=0\n",
    "        cls.rsi=0\n",
    "        cls.opportunity=False\n",
    "        cls.to_buy=False\n",
    "        cls.to_sell=False\n",
    "        return  cls\n",
    "\n",
    "    def __str__(self):\n",
    "        return \"Id: {0}, Stock Data: {1}, Date: {2}, Should Buy \/ Sell: {3}\/{4}\" \\\n",
    "    .format(self.id, self.stock_data_id, self.date, self.to_buy, self.to_sell)\n",
    "    \n",
    "    def __repr__(self):\n",
    "        return str(self)"
   ],
   "execution_count":6,
   "outputs":[
    
   ],
   "metadata":{
    "datalore":{
     "node_id":"6l9IuopiYhUmmo2I7hBJsp",
     "type":"CODE",
     "hide_input_from_viewers":true,
     "hide_output_from_viewers":true
    }
   }
  },
  {
   "cell_type":"code",
   "source":[
    "\"\"\" Recuperar a lista de ações \"\"\"\n",
    "def get_stocks(session, debug=False):\n",
    "    stocks = session.query(Stock).all()\n",
    "\n",
    "    if(debug):\n",
    "        print(stocks)\n",
    "\n",
    "    return stocks\n",
    "\n",
    "get_stocks(get_session())"
   ],
   "execution_count":8,
   "outputs":[
    {
     "data":{
      "text\/plain":[
       "[Id: 17\tCode: MGLU3.SA\tLast Integration: 2023-05-02 00:00:00,\n",
       " Id: 18\tCode: VIIA3.SA\tLast Integration: 2023-05-02 00:00:00,\n",
       " Id: 19\tCode: AMER3.SA\tLast Integration: 2023-05-02 00:00:00,\n",
       " Id: 20\tCode: PETR4.SA\tLast Integration: 2023-05-02 00:00:00,\n",
       " Id: 21\tCode: ABEV3.SA\tLast Integration: 2023-05-02 00:00:00,\n",
       " Id: 22\tCode: VALE3.SA\tLast Integration: 2023-05-02 00:00:00,\n",
       " Id: 23\tCode: HAPV3.SA\tLast Integration: 2023-05-02 00:00:00]"
      ]
     },
     "metadata":{
      
     },
     "output_type":"display_data"
    }
   ],
   "metadata":{
    "datalore":{
     "node_id":"Ng9Af1USzgEZPuH1oFKW8E",
     "type":"CODE",
     "hide_input_from_viewers":true,
     "hide_output_from_viewers":true
    }
   }
  },
  {
   "cell_type":"code",
   "source":[
    "\"\"\" Retorna conversão do DataFrame para lista de objeto \"\"\"\n",
    "def convert_to_model(stock, data):\n",
    "    stockdata = []\n",
    "    #columns = data.columns.tolist()\n",
    "\n",
    "    for i in range(0, len(data)):\n",
    "        #values = dict(zip(columns, data.values[i]))\n",
    "        period = data.index[i].date()\n",
    "        item = StockData(stock=stock, period=period, data=data, index=i)\n",
    "        stockdata.append(item)\n",
    "\n",
    "    return stockdata"
   ],
   "execution_count":9,
   "outputs":[
    
   ],
   "metadata":{
    "datalore":{
     "node_id":"DJAYC9hKTzZhoT5cjEGF1m",
     "type":"CODE",
     "hide_input_from_viewers":true,
     "hide_output_from_viewers":true
    }
   }
  },
  {
   "cell_type":"code",
   "source":[
    "\"\"\" Efetua o sincronismo via integração com API do Yahoo. Este método deverá ser agendado. \"\"\"\n",
    "def sync_from_yahoo():\n",
    "    print('Start')\n",
    "    with get_session() as session:\n",
    "        stocks = get_stocks(session)\n",
    "        # Sempre gravar a integração do dia anterior\n",
    "        yesterday = date.today() - timedelta(days = 1)\n",
    "\n",
    "        for stock in stocks:\n",
    "            print('Running {0}'.format(stock))\n",
    "            if stock.last_integration.date() < yesterday:\n",
    "                data = yf.download(stock.code, start=stock.last_integration, end=yesterday, interval='1d')\n",
    "                try:\n",
    "                    result = session.bulk_save_objects(convert_to_model(stock, data))\n",
    "                    stock.last_integration = yesterday                    \n",
    "                except Exception as e:\n",
    "                    print('Erro ao efetuar a gravação dos dados para {0} em {1}'.format(stock.code, yesterday))\n",
    "                    print('Exception: {0}'.format(e))\n",
    "            else:\n",
    "                print('Nenhum dado para integração para {0} em {1}.'.format(stock.code, yesterday))\n",
    "        \n",
    "        session.commit()\n",
    "        print('Done')\n",
    "\n",
    "sync_from_yahoo()"
   ],
   "execution_count":10,
   "outputs":[
    {
     "name":"stdout",
     "text":[
      "Start\n",
      "Running Id: 17\tCode: MGLU3.SA\tLast Integration: 2023-05-02 00:00:00\n",
      "\r[*********************100%***********************]  1 of 1 completed\n",
      "Running Id: 18\tCode: VIIA3.SA\tLast Integration: 2023-05-02 00:00:00\n",
      "\r[*********************100%***********************]  1 of 1 completed\n",
      "Running Id: 19\tCode: AMER3.SA\tLast Integration: 2023-05-02 00:00:00\n",
      "\r[*********************100%***********************]  1 of 1 completed\n",
      "Running Id: 20\tCode: PETR4.SA\tLast Integration: 2023-05-02 00:00:00\n",
      "\r[*********************100%***********************]  1 of 1 completed\n",
      "Running Id: 21\tCode: ABEV3.SA\tLast Integration: 2023-05-02 00:00:00\n",
      "\r[*********************100%***********************]  1 of 1 completed\n",
      "Running Id: 22\tCode: VALE3.SA\tLast Integration: 2023-05-02 00:00:00\n",
      "\r[*********************100%***********************]  1 of 1 completed\n",
      "Running Id: 23\tCode: HAPV3.SA\tLast Integration: 2023-05-02 00:00:00\n",
      "\r[*********************100%***********************]  1 of 1 completed\n",
      "Done\n"
     ],
     "output_type":"stream"
    }
   ],
   "metadata":{
    "datalore":{
     "node_id":"b3tsywUS0e8xINfGEWtkIq",
     "type":"CODE",
     "hide_input_from_viewers":true,
     "hide_output_from_viewers":true
    }
   }
  },
  {
   "cell_type":"markdown",
   "source":[
    "# Calculation"
   ],
   "attachments":{
    
   },
   "metadata":{
    "datalore":{
     "node_id":"Calculation",
     "type":"MD",
     "hide_input_from_viewers":false,
     "hide_output_from_viewers":false,
     "sheet_delimiter":true
    }
   }
  },
  {
   "cell_type":"code",
   "source":[
    "pd.options.mode.chained_assignment = None"
   ],
   "execution_count":11,
   "outputs":[
    
   ],
   "metadata":{
    "datalore":{
     "node_id":"FrvhqXgbDKsPeJqihHtgU0",
     "type":"CODE",
     "hide_input_from_viewers":true,
     "hide_output_from_viewers":true
    }
   }
  },
  {
   "cell_type":"code",
   "source":[
    "\"\"\" Filtrar intervalo para cálculo dos dados das ações \"\"\"\n",
    "def get_data(stock_id, init_date, end_date):\n",
    "    str_conn = get_connection_string()\n",
    "    engine = db.create_engine(str_conn)\n",
    "    query = \"\"\"\\\n",
    "SET NOCOUNT ON;\n",
    "EXEC usp_get_stockdata @stock_id = :stock_id, @initDate = :initDate, @endDate = :endDate;\n",
    "\"\"\"\n",
    "    data = []\n",
    "    s = Stock()\n",
    "    s.id = stock_id\n",
    "\n",
    "    with engine.begin() as conn:\n",
    "        result = conn.execute(\n",
    "            db.text(query), \n",
    "            stock_id=stock_id, \n",
    "            initDate=init_date, \n",
    "            endDate=end_date)\n",
    "        for row in result:\n",
    "            stock = StockData(s, row['stock_date'])\n",
    "            stock.id = row['id']\n",
    "            stock.adj = row['adjclose_value']\n",
    "            stock.open = row['open_value']\n",
    "            stock.high = row['high_value']\n",
    "            stock.low = row['low_value']\n",
    "            stock.close = row['close_value']\n",
    "            stock.adj = row['adjclose_value']\n",
    "            stock.volume = row['volume_value']\n",
    "            data.append(stock)\n",
    "    return  data\n",
    "\n",
    "# Example call\n",
    "get_data(20, date(2000, 1, 1), date(2000, 3, 1))"
   ],
   "execution_count":12,
   "outputs":[
    {
     "data":{
      "text\/plain":[
       "[Id: 16942, Date: 2000-01-03 00:00:00, Open: 5.875,\tHigh:5.875,\t<<Stock: None>>,\n",
       " Id: 16943, Date: 2000-01-04 00:00:00, Open: 5.550000190734863,\tHigh:5.550000190734863,\t<<Stock: None>>,\n",
       " Id: 16944, Date: 2000-01-05 00:00:00, Open: 5.49399995803833,\tHigh:5.49399995803833,\t<<Stock: None>>,\n",
       " Id: 16945, Date: 2000-01-06 00:00:00, Open: 5.474999904632568,\tHigh:5.474999904632568,\t<<Stock: None>>,\n",
       " Id: 16946, Date: 2000-01-07 00:00:00, Open: 5.5,\tHigh:5.5,\t<<Stock: None>>,\n",
       " Id: 16947, Date: 2000-01-10 00:00:00, Open: 5.61299991607666,\tHigh:5.61299991607666,\t<<Stock: None>>,\n",
       " Id: 16948, Date: 2000-01-11 00:00:00, Open: 5.474999904632568,\tHigh:5.474999904632568,\t<<Stock: None>>,\n",
       " Id: 16949, Date: 2000-01-12 00:00:00, Open: 5.482999801635742,\tHigh:5.482999801635742,\t<<Stock: None>>,\n",
       " Id: 16950, Date: 2000-01-13 00:00:00, Open: 5.324999809265137,\tHigh:5.324999809265137,\t<<Stock: None>>,\n",
       " Id: 16951, Date: 2000-01-14 00:00:00, Open: 5.400000095367432,\tHigh:5.400000095367432,\t<<Stock: None>>,\n",
       " Id: 16952, Date: 2000-01-17 00:00:00, Open: 5.3379998207092285,\tHigh:5.3379998207092285,\t<<Stock: None>>,\n",
       " Id: 16953, Date: 2000-01-18 00:00:00, Open: 5.36299991607666,\tHigh:5.36299991607666,\t<<Stock: None>>,\n",
       " Id: 16954, Date: 2000-01-19 00:00:00, Open: 5.324999809265137,\tHigh:5.324999809265137,\t<<Stock: None>>,\n",
       " Id: 16955, Date: 2000-01-20 00:00:00, Open: 5.313000202178955,\tHigh:5.313000202178955,\t<<Stock: None>>,\n",
       " Id: 16956, Date: 2000-01-21 00:00:00, Open: 5.199999809265137,\tHigh:5.199999809265137,\t<<Stock: None>>,\n",
       " Id: 16957, Date: 2000-01-24 00:00:00, Open: 5.163000106811523,\tHigh:5.163000106811523,\t<<Stock: None>>,\n",
       " Id: 16958, Date: 2000-01-25 00:00:00, Open: 5.163000106811523,\tHigh:5.163000106811523,\t<<Stock: None>>,\n",
       " Id: 16959, Date: 2000-01-26 00:00:00, Open: 5.224999904632568,\tHigh:5.224999904632568,\t<<Stock: None>>,\n",
       " Id: 16960, Date: 2000-01-27 00:00:00, Open: 5.188000202178955,\tHigh:5.188000202178955,\t<<Stock: None>>,\n",
       " Id: 16961, Date: 2000-01-28 00:00:00, Open: 5.188000202178955,\tHigh:5.188000202178955,\t<<Stock: None>>,\n",
       " Id: 16962, Date: 2000-01-31 00:00:00, Open: 5.10099983215332,\tHigh:5.10099983215332,\t<<Stock: None>>,\n",
       " Id: 16963, Date: 2000-02-01 00:00:00, Open: 5.199999809265137,\tHigh:5.199999809265137,\t<<Stock: None>>,\n",
       " Id: 16964, Date: 2000-02-02 00:00:00, Open: 5.300000190734863,\tHigh:5.300000190734863,\t<<Stock: None>>,\n",
       " Id: 16965, Date: 2000-02-03 00:00:00, Open: 5.449999809265137,\tHigh:5.449999809265137,\t<<Stock: None>>,\n",
       " Id: 16966, Date: 2000-02-04 00:00:00, Open: 5.5879998207092285,\tHigh:5.5879998207092285,\t<<Stock: None>>,\n",
       " Id: 16967, Date: 2000-02-07 00:00:00, Open: 5.625,\tHigh:5.625,\t<<Stock: None>>,\n",
       " Id: 16968, Date: 2000-02-08 00:00:00, Open: 5.75,\tHigh:5.75,\t<<Stock: None>>,\n",
       " Id: 16969, Date: 2000-02-09 00:00:00, Open: 5.625,\tHigh:5.625,\t<<Stock: None>>,\n",
       " Id: 16970, Date: 2000-02-10 00:00:00, Open: 5.4629998207092285,\tHigh:5.4629998207092285,\t<<Stock: None>>,\n",
       " Id: 16971, Date: 2000-02-11 00:00:00, Open: 5.288000106811523,\tHigh:5.288000106811523,\t<<Stock: None>>,\n",
       " Id: 16972, Date: 2000-02-14 00:00:00, Open: 5.2129998207092285,\tHigh:5.2129998207092285,\t<<Stock: None>>,\n",
       " Id: 16973, Date: 2000-02-15 00:00:00, Open: 5.313000202178955,\tHigh:5.313000202178955,\t<<Stock: None>>,\n",
       " Id: 16974, Date: 2000-02-16 00:00:00, Open: 5.73799991607666,\tHigh:5.73799991607666,\t<<Stock: None>>,\n",
       " Id: 16975, Date: 2000-02-17 00:00:00, Open: 5.688000202178955,\tHigh:5.688000202178955,\t<<Stock: None>>,\n",
       " Id: 16976, Date: 2000-02-18 00:00:00, Open: 5.563000202178955,\tHigh:5.563000202178955,\t<<Stock: None>>,\n",
       " Id: 16977, Date: 2000-02-21 00:00:00, Open: 5.550000190734863,\tHigh:5.550000190734863,\t<<Stock: None>>,\n",
       " Id: 16978, Date: 2000-02-22 00:00:00, Open: 5.525000095367432,\tHigh:5.525000095367432,\t<<Stock: None>>,\n",
       " Id: 16979, Date: 2000-02-23 00:00:00, Open: 5.563000202178955,\tHigh:5.563000202178955,\t<<Stock: None>>,\n",
       " Id: 16980, Date: 2000-02-24 00:00:00, Open: 5.7129998207092285,\tHigh:5.7129998207092285,\t<<Stock: None>>,\n",
       " Id: 16981, Date: 2000-02-25 00:00:00, Open: 5.86299991607666,\tHigh:5.86299991607666,\t<<Stock: None>>,\n",
       " Id: 16982, Date: 2000-02-28 00:00:00, Open: 5.75,\tHigh:5.75,\t<<Stock: None>>,\n",
       " Id: 16983, Date: 2000-02-29 00:00:00, Open: 5.775000095367432,\tHigh:5.775000095367432,\t<<Stock: None>>,\n",
       " Id: 16984, Date: 2000-03-01 00:00:00, Open: 5.875,\tHigh:5.875,\t<<Stock: None>>]"
      ]
     },
     "metadata":{
      
     },
     "output_type":"display_data"
    }
   ],
   "metadata":{
    "datalore":{
     "node_id":"vjJOHxPFYk7dCArREnRoIG",
     "type":"CODE",
     "hide_input_from_viewers":true,
     "hide_output_from_viewers":true
    }
   }
  },
  {
   "cell_type":"code",
   "source":[
    "\"\"\" Recuperar a lista de ações como DataFrame \"\"\"\n",
    "def get_stockdata(session, params, debug=False):\n",
    "    stocks_data = get_data(params['stock_id'], \n",
    "        params['data_init'],\n",
    "        params['data_end'])\n",
    "\n",
    "    dates = []\n",
    "    dict={\n",
    "        'id': list(), 'open': list(), \n",
    "        'high': list(), 'close': list(), \n",
    "        'adj': list(), 'volume': list()\n",
    "    }\n",
    "    for n in stocks_data:\n",
    "        dates.append(n.date)\n",
    "        dict['id'].append(n.id)\n",
    "        dict['open'].append(n.open)\n",
    "        dict['high'].append(n.high)\n",
    "        dict['close'].append(n.close)\n",
    "        dict['adj'].append(n.adj)\n",
    "        dict['volume'].append(n.volume)\n",
    "\n",
    "    columns = ['id', 'open', 'high', 'close', 'adj', 'volume']\n",
    "    #print(dict, columns)\n",
    "    df = pd.DataFrame(dict, columns=columns, index=dates)\n",
    "    return df\n",
    "\n",
    "\"\"\" Calcular datas de venda \/ compra \"\"\"\n",
    "def calculate(df):\n",
    "    if len(df) == 0:\n",
    "        return df\n",
    "\n",
    "    df['retornos'] = df['adj'].pct_change().dropna()\n",
    "    \n",
    "    df['positivos'] = df['retornos'].apply(lambda x: x if x > 0 else 0)\n",
    "    df['negativos'] = df['retornos'].apply(lambda x: abs(x) if x < 0 else 0)\n",
    "\n",
    "    df['media_positivos'] = df['positivos'].rolling(window=22).mean()\n",
    "    df['media_negativos'] = df['negativos'].rolling(window=22).mean()\n",
    "\n",
    "    df = df.dropna()\n",
    "\n",
    "    df['rsi'] = (100 - 100 \/ (1 + df['media_positivos'] \/ df['media_negativos']))\n",
    "\n",
    "    if len(df) == 0:\n",
    "        return df\n",
    "    \n",
    "    df.loc[df['rsi'] < 30, 'oportunidade'] = True\n",
    "    df.loc[df['rsi'] > 30, 'oportunidade'] = False\n",
    "\n",
    "    df['comprar'] = False\n",
    "    df['vender'] = False\n",
    "\n",
    "    datas_comprar = []\n",
    "    datas_vender = []\n",
    "\n",
    "    for i in range(len(df)):\n",
    "        if df['oportunidade'].iloc[i]:\n",
    "            if i+1 < len(df):\n",
    "                datas_comprar.append(df.iloc[i+1].name)                 # porque se deve comprar no preço de abertura do dia anterior\n",
    "\n",
    "            for j in range(1, 11):                                      # 10 dias de operação\n",
    "                if i+j+1 < len(df):\n",
    "                    if df['rsi'].iloc[i+j] > 40:                        # vender se RSI maior de 40\n",
    "                        datas_vender.append(df.iloc[i + j + 1].name)    # vender no dia seguinte ao atigir mais que 40\n",
    "                        break\n",
    "                    elif j == 10:\n",
    "                        datas_vender.append(df.iloc[i + j + 1].name)\n",
    "\n",
    "    df.loc[datas_comprar, 'comprar'] = True\n",
    "    df.loc[datas_vender, 'vender'] = True\n",
    "\n",
    "    df = df.dropna()\n",
    "\n",
    "    return df\n",
    "\n",
    "\"\"\" Retorna conversão do DataFrame para lista de objeto \"\"\"\n",
    "def convert_calculated_to_model(data):\n",
    "    calculations = []\n",
    "\n",
    "    for i in range(0, len(data)):\n",
    "        item = StockCalculation()\n",
    "        item.stock_data_id = int(data['id'][i])\n",
    "        item.date = data.index[i].date()\n",
    "        item.process_date = date.today()\n",
    "        item.results=float(data['retornos'][i])\n",
    "        item.positive=float(data['positivos'][i])\n",
    "        item.negative=float(data['negativos'][i])\n",
    "        item.positive_mean=float(data['media_positivos'][i])\n",
    "        item.negative_mean=float(data['media_negativos'][i])\n",
    "        item.rsi=float(data['rsi'][i])\n",
    "        item.opportunity=bool(data['oportunidade'][i])\n",
    "        item.to_buy=bool(data['comprar'][i])\n",
    "        item.to_sell=bool(data['vender'][i])\n",
    "        calculations.append(item)\n",
    "\n",
    "    return calculations\n",
    "\n",
    "# Example call\n",
    "convert_calculated_to_model(\n",
    "    calculate(\n",
    "        get_stockdata(get_session(), \n",
    "                      dict(stock_id=20, \n",
    "                           data_init=date(2000, 1, 1), \n",
    "                           data_end=date(2000, 5, 1)))))"
   ],
   "execution_count":13,
   "outputs":[
    {
     "data":{
      "text\/plain":[
       "[Id: None, Stock Data: 16963, Date: 2000-02-01, Should Buy \/ Sell: False\/False,\n",
       " Id: None, Stock Data: 16964, Date: 2000-02-02, Should Buy \/ Sell: True\/False,\n",
       " Id: None, Stock Data: 16965, Date: 2000-02-03, Should Buy \/ Sell: False\/False,\n",
       " Id: None, Stock Data: 16966, Date: 2000-02-04, Should Buy \/ Sell: False\/True,\n",
       " Id: None, Stock Data: 16967, Date: 2000-02-07, Should Buy \/ Sell: False\/False,\n",
       " Id: None, Stock Data: 16968, Date: 2000-02-08, Should Buy \/ Sell: False\/False,\n",
       " Id: None, Stock Data: 16969, Date: 2000-02-09, Should Buy \/ Sell: False\/False,\n",
       " Id: None, Stock Data: 16970, Date: 2000-02-10, Should Buy \/ Sell: False\/False,\n",
       " Id: None, Stock Data: 16971, Date: 2000-02-11, Should Buy \/ Sell: False\/False,\n",
       " Id: None, Stock Data: 16972, Date: 2000-02-14, Should Buy \/ Sell: False\/False,\n",
       " Id: None, Stock Data: 16973, Date: 2000-02-15, Should Buy \/ Sell: False\/False,\n",
       " Id: None, Stock Data: 16974, Date: 2000-02-16, Should Buy \/ Sell: False\/False,\n",
       " Id: None, Stock Data: 16975, Date: 2000-02-17, Should Buy \/ Sell: False\/False,\n",
       " Id: None, Stock Data: 16976, Date: 2000-02-18, Should Buy \/ Sell: False\/False,\n",
       " Id: None, Stock Data: 16977, Date: 2000-02-21, Should Buy \/ Sell: False\/False,\n",
       " Id: None, Stock Data: 16978, Date: 2000-02-22, Should Buy \/ Sell: False\/False,\n",
       " Id: None, Stock Data: 16979, Date: 2000-02-23, Should Buy \/ Sell: False\/False,\n",
       " Id: None, Stock Data: 16980, Date: 2000-02-24, Should Buy \/ Sell: False\/False,\n",
       " Id: None, Stock Data: 16981, Date: 2000-02-25, Should Buy \/ Sell: False\/False,\n",
       " Id: None, Stock Data: 16982, Date: 2000-02-28, Should Buy \/ Sell: False\/False,\n",
       " Id: None, Stock Data: 16983, Date: 2000-02-29, Should Buy \/ Sell: False\/False,\n",
       " Id: None, Stock Data: 16984, Date: 2000-03-01, Should Buy \/ Sell: False\/False,\n",
       " Id: None, Stock Data: 16985, Date: 2000-03-02, Should Buy \/ Sell: False\/False,\n",
       " Id: None, Stock Data: 16986, Date: 2000-03-03, Should Buy \/ Sell: False\/False,\n",
       " Id: None, Stock Data: 16987, Date: 2000-03-06, Should Buy \/ Sell: False\/False,\n",
       " Id: None, Stock Data: 16988, Date: 2000-03-07, Should Buy \/ Sell: False\/False,\n",
       " Id: None, Stock Data: 16989, Date: 2000-03-08, Should Buy \/ Sell: False\/False,\n",
       " Id: None, Stock Data: 16990, Date: 2000-03-09, Should Buy \/ Sell: False\/False,\n",
       " Id: None, Stock Data: 16991, Date: 2000-03-10, Should Buy \/ Sell: False\/False,\n",
       " Id: None, Stock Data: 16992, Date: 2000-03-13, Should Buy \/ Sell: False\/False,\n",
       " Id: None, Stock Data: 16993, Date: 2000-03-14, Should Buy \/ Sell: False\/False,\n",
       " Id: None, Stock Data: 16994, Date: 2000-03-15, Should Buy \/ Sell: False\/False,\n",
       " Id: None, Stock Data: 16995, Date: 2000-03-16, Should Buy \/ Sell: False\/False,\n",
       " Id: None, Stock Data: 16996, Date: 2000-03-17, Should Buy \/ Sell: False\/False,\n",
       " Id: None, Stock Data: 16997, Date: 2000-03-20, Should Buy \/ Sell: False\/False,\n",
       " Id: None, Stock Data: 16998, Date: 2000-03-21, Should Buy \/ Sell: False\/False,\n",
       " Id: None, Stock Data: 16999, Date: 2000-03-22, Should Buy \/ Sell: False\/False,\n",
       " Id: None, Stock Data: 17000, Date: 2000-03-23, Should Buy \/ Sell: False\/False,\n",
       " Id: None, Stock Data: 17001, Date: 2000-03-24, Should Buy \/ Sell: False\/False,\n",
       " Id: None, Stock Data: 17002, Date: 2000-03-27, Should Buy \/ Sell: False\/False,\n",
       " Id: None, Stock Data: 17003, Date: 2000-03-28, Should Buy \/ Sell: False\/False,\n",
       " Id: None, Stock Data: 17004, Date: 2000-03-29, Should Buy \/ Sell: False\/False,\n",
       " Id: None, Stock Data: 17005, Date: 2000-03-30, Should Buy \/ Sell: False\/False,\n",
       " Id: None, Stock Data: 17006, Date: 2000-03-31, Should Buy \/ Sell: False\/False,\n",
       " Id: None, Stock Data: 17007, Date: 2000-04-03, Should Buy \/ Sell: False\/False,\n",
       " Id: None, Stock Data: 17008, Date: 2000-04-04, Should Buy \/ Sell: False\/False,\n",
       " Id: None, Stock Data: 17009, Date: 2000-04-05, Should Buy \/ Sell: False\/False,\n",
       " Id: None, Stock Data: 17010, Date: 2000-04-06, Should Buy \/ Sell: False\/False,\n",
       " Id: None, Stock Data: 17011, Date: 2000-04-07, Should Buy \/ Sell: False\/False,\n",
       " Id: None, Stock Data: 17012, Date: 2000-04-10, Should Buy \/ Sell: False\/False,\n",
       " Id: None, Stock Data: 17013, Date: 2000-04-11, Should Buy \/ Sell: False\/False,\n",
       " Id: None, Stock Data: 17014, Date: 2000-04-12, Should Buy \/ Sell: False\/False,\n",
       " Id: None, Stock Data: 17015, Date: 2000-04-13, Should Buy \/ Sell: False\/False,\n",
       " Id: None, Stock Data: 17016, Date: 2000-04-14, Should Buy \/ Sell: False\/False,\n",
       " Id: None, Stock Data: 17017, Date: 2000-04-17, Should Buy \/ Sell: False\/False,\n",
       " Id: None, Stock Data: 17018, Date: 2000-04-18, Should Buy \/ Sell: False\/False,\n",
       " Id: None, Stock Data: 17019, Date: 2000-04-19, Should Buy \/ Sell: False\/False,\n",
       " Id: None, Stock Data: 17020, Date: 2000-04-20, Should Buy \/ Sell: False\/False,\n",
       " Id: None, Stock Data: 17021, Date: 2000-04-21, Should Buy \/ Sell: False\/False,\n",
       " Id: None, Stock Data: 17022, Date: 2000-04-24, Should Buy \/ Sell: False\/False,\n",
       " Id: None, Stock Data: 17023, Date: 2000-04-25, Should Buy \/ Sell: False\/False,\n",
       " Id: None, Stock Data: 17024, Date: 2000-04-26, Should Buy \/ Sell: False\/False,\n",
       " Id: None, Stock Data: 17025, Date: 2000-04-27, Should Buy \/ Sell: False\/False,\n",
       " Id: None, Stock Data: 17026, Date: 2000-04-28, Should Buy \/ Sell: False\/False,\n",
       " Id: None, Stock Data: 17027, Date: 2000-05-01, Should Buy \/ Sell: False\/False]"
      ]
     },
     "metadata":{
      
     },
     "output_type":"display_data"
    }
   ],
   "metadata":{
    "datalore":{
     "node_id":"FhYo0kbvZopX6Qi3QG5PPv",
     "type":"CODE",
     "hide_input_from_viewers":true,
     "hide_output_from_viewers":true
    }
   }
  },
  {
   "cell_type":"code",
   "source":[
    "\"\"\" Persistir o calculado inserindo ou atualizando a informação \"\"\"\n",
    "def get_or_add_calculation(calculated, debug=False):\n",
    "    if debug: print('Starting')\n",
    "    with get_session() as session:\n",
    "        for c in calculated:\n",
    "            query = session.query(StockCalculation).filter(StockCalculation.stock_data_id==int(c.stock_data_id))\n",
    "\n",
    "            if query.first() is None:           # Inserindo              \n",
    "                session.add(c)\n",
    "                if debug: print('Adding', c)\n",
    "            else:                               # Atualizando\n",
    "                u = query.first()\n",
    "                u.process_date = date.today()\n",
    "                u.results=c.results\n",
    "                u.positive=c.positive\n",
    "                u.negative=c.negative\n",
    "                u.positive_mean=c.positive_mean\n",
    "                u.negative_mean=c.negative_mean\n",
    "                u.rsi=c.rsi\n",
    "                u.opportunity=c.opportunity\n",
    "                u.to_buy=c.to_buy\n",
    "                u.to_sell=c.to_sell\n",
    "                if debug: print('Updating', u)\n",
    "            session.flush()           \n",
    "        session.commit()\n",
    "    if debug: print('Finished')\n",
    "\n",
    "# Example call\n",
    "get_or_add_calculation(\n",
    "    convert_calculated_to_model(\n",
    "        calculate(\n",
    "            get_stockdata(get_session(), dict(stock_id=20, data_init=date(2000, 1, 1), data_end=date(2000, 5, 1))))), True)"
   ],
   "execution_count":14,
   "outputs":[
    {
     "name":"stdout",
     "text":[
      "Starting\n",
      "Updating Id: 25, Stock Data: 16963, Date: 2000-02-01, Should Buy \/ Sell: False\/False\n",
      "Updating Id: 26, Stock Data: 16964, Date: 2000-02-02, Should Buy \/ Sell: True\/False\n",
      "Updating Id: 27, Stock Data: 16965, Date: 2000-02-03, Should Buy \/ Sell: False\/False\n",
      "Updating Id: 28, Stock Data: 16966, Date: 2000-02-04, Should Buy \/ Sell: False\/True\n",
      "Updating Id: 29, Stock Data: 16967, Date: 2000-02-07, Should Buy \/ Sell: False\/False\n",
      "Updating Id: 30, Stock Data: 16968, Date: 2000-02-08, Should Buy \/ Sell: False\/False\n",
      "Updating Id: 31, Stock Data: 16969, Date: 2000-02-09, Should Buy \/ Sell: False\/False\n",
      "Updating Id: 32, Stock Data: 16970, Date: 2000-02-10, Should Buy \/ Sell: False\/False\n",
      "Updating Id: 33, Stock Data: 16971, Date: 2000-02-11, Should Buy \/ Sell: False\/False\n",
      "Updating Id: 34, Stock Data: 16972, Date: 2000-02-14, Should Buy \/ Sell: False\/False\n",
      "Updating Id: 35, Stock Data: 16973, Date: 2000-02-15, Should Buy \/ Sell: False\/False\n",
      "Updating Id: 36, Stock Data: 16974, Date: 2000-02-16, Should Buy \/ Sell: False\/False\n",
      "Updating Id: 37, Stock Data: 16975, Date: 2000-02-17, Should Buy \/ Sell: False\/False\n",
      "Updating Id: 38, Stock Data: 16976, Date: 2000-02-18, Should Buy \/ Sell: False\/False\n",
      "Updating Id: 39, Stock Data: 16977, Date: 2000-02-21, Should Buy \/ Sell: False\/False\n",
      "Updating Id: 40, Stock Data: 16978, Date: 2000-02-22, Should Buy \/ Sell: False\/False\n",
      "Updating Id: 41, Stock Data: 16979, Date: 2000-02-23, Should Buy \/ Sell: False\/False\n",
      "Updating Id: 42, Stock Data: 16980, Date: 2000-02-24, Should Buy \/ Sell: False\/False\n",
      "Updating Id: 43, Stock Data: 16981, Date: 2000-02-25, Should Buy \/ Sell: False\/False\n",
      "Updating Id: 44, Stock Data: 16982, Date: 2000-02-28, Should Buy \/ Sell: False\/False\n",
      "Updating Id: 45, Stock Data: 16983, Date: 2000-02-29, Should Buy \/ Sell: False\/False\n",
      "Updating Id: 46, Stock Data: 16984, Date: 2000-03-01, Should Buy \/ Sell: False\/False\n",
      "Updating Id: 47, Stock Data: 16985, Date: 2000-03-02, Should Buy \/ Sell: False\/False\n",
      "Updating Id: 48, Stock Data: 16986, Date: 2000-03-03, Should Buy \/ Sell: False\/False\n",
      "Updating Id: 49, Stock Data: 16987, Date: 2000-03-06, Should Buy \/ Sell: False\/False\n",
      "Updating Id: 50, Stock Data: 16988, Date: 2000-03-07, Should Buy \/ Sell: False\/False\n",
      "Updating Id: 51, Stock Data: 16989, Date: 2000-03-08, Should Buy \/ Sell: False\/False\n",
      "Updating Id: 52, Stock Data: 16990, Date: 2000-03-09, Should Buy \/ Sell: False\/False\n",
      "Updating Id: 53, Stock Data: 16991, Date: 2000-03-10, Should Buy \/ Sell: False\/False\n",
      "Updating Id: 54, Stock Data: 16992, Date: 2000-03-13, Should Buy \/ Sell: False\/False\n",
      "Updating Id: 55, Stock Data: 16993, Date: 2000-03-14, Should Buy \/ Sell: False\/False\n",
      "Updating Id: 56, Stock Data: 16994, Date: 2000-03-15, Should Buy \/ Sell: False\/False\n",
      "Updating Id: 57, Stock Data: 16995, Date: 2000-03-16, Should Buy \/ Sell: False\/False\n",
      "Updating Id: 58, Stock Data: 16996, Date: 2000-03-17, Should Buy \/ Sell: False\/False\n",
      "Updating Id: 59, Stock Data: 16997, Date: 2000-03-20, Should Buy \/ Sell: False\/False\n",
      "Updating Id: 60, Stock Data: 16998, Date: 2000-03-21, Should Buy \/ Sell: False\/False\n",
      "Updating Id: 61, Stock Data: 16999, Date: 2000-03-22, Should Buy \/ Sell: False\/False\n",
      "Updating Id: 62, Stock Data: 17000, Date: 2000-03-23, Should Buy \/ Sell: False\/False\n",
      "Updating Id: 63, Stock Data: 17001, Date: 2000-03-24, Should Buy \/ Sell: False\/False\n",
      "Updating Id: 64, Stock Data: 17002, Date: 2000-03-27, Should Buy \/ Sell: False\/False\n",
      "Updating Id: 65, Stock Data: 17003, Date: 2000-03-28, Should Buy \/ Sell: False\/False\n",
      "Updating Id: 66, Stock Data: 17004, Date: 2000-03-29, Should Buy \/ Sell: False\/False\n",
      "Updating Id: 67, Stock Data: 17005, Date: 2000-03-30, Should Buy \/ Sell: False\/False\n",
      "Updating Id: 68, Stock Data: 17006, Date: 2000-03-31, Should Buy \/ Sell: False\/False\n",
      "Updating Id: 69, Stock Data: 17007, Date: 2000-04-03, Should Buy \/ Sell: False\/False\n",
      "Updating Id: 70, Stock Data: 17008, Date: 2000-04-04, Should Buy \/ Sell: False\/False\n",
      "Updating Id: 71, Stock Data: 17009, Date: 2000-04-05, Should Buy \/ Sell: False\/False\n",
      "Updating Id: 72, Stock Data: 17010, Date: 2000-04-06, Should Buy \/ Sell: False\/False\n",
      "Updating Id: 73, Stock Data: 17011, Date: 2000-04-07, Should Buy \/ Sell: False\/False\n",
      "Updating Id: 74, Stock Data: 17012, Date: 2000-04-10, Should Buy \/ Sell: False\/False\n",
      "Updating Id: 75, Stock Data: 17013, Date: 2000-04-11, Should Buy \/ Sell: False\/False\n",
      "Updating Id: 76, Stock Data: 17014, Date: 2000-04-12, Should Buy \/ Sell: False\/False\n",
      "Updating Id: 77, Stock Data: 17015, Date: 2000-04-13, Should Buy \/ Sell: False\/False\n",
      "Updating Id: 78, Stock Data: 17016, Date: 2000-04-14, Should Buy \/ Sell: False\/False\n",
      "Updating Id: 79, Stock Data: 17017, Date: 2000-04-17, Should Buy \/ Sell: False\/False\n",
      "Updating Id: 80, Stock Data: 17018, Date: 2000-04-18, Should Buy \/ Sell: False\/False\n",
      "Updating Id: 81, Stock Data: 17019, Date: 2000-04-19, Should Buy \/ Sell: False\/False\n",
      "Updating Id: 82, Stock Data: 17020, Date: 2000-04-20, Should Buy \/ Sell: False\/False\n",
      "Updating Id: 83, Stock Data: 17021, Date: 2000-04-21, Should Buy \/ Sell: False\/False\n",
      "Updating Id: 84, Stock Data: 17022, Date: 2000-04-24, Should Buy \/ Sell: False\/False\n",
      "Updating Id: 85, Stock Data: 17023, Date: 2000-04-25, Should Buy \/ Sell: False\/False\n",
      "Updating Id: 86, Stock Data: 17024, Date: 2000-04-26, Should Buy \/ Sell: False\/False\n",
      "Updating Id: 87, Stock Data: 17025, Date: 2000-04-27, Should Buy \/ Sell: False\/False\n",
      "Updating Id: 88, Stock Data: 17026, Date: 2000-04-28, Should Buy \/ Sell: False\/False\n",
      "Updating Id: 89, Stock Data: 17027, Date: 2000-05-01, Should Buy \/ Sell: False\/False\n",
      "Finished\n"
     ],
     "output_type":"stream"
    }
   ],
   "metadata":{
    "datalore":{
     "node_id":"eKO9mX2KFHFIeOEuLBtN17",
     "type":"CODE",
     "hide_input_from_viewers":true,
     "hide_output_from_viewers":true
    }
   }
  },
  {
   "cell_type":"code",
   "source":[
    "\"\"\" Função auxiliar para geração de meses seqüênciais em formato de iterator \"\"\"\n",
    "def month_year_iter(start_month, start_year, end_month, end_year ):\n",
    "    ym_start= 12*start_year + start_month - 1\n",
    "    ym_end= 12*end_year + end_month - 1\n",
    "    for ym in range( ym_start, ym_end ):\n",
    "        y, m = divmod( ym, 12 )\n",
    "        if m+1==1:\n",
    "            yield y, m+1\n",
    "        else:\n",
    "            continue\n",
    "\n",
    "\"\"\" Função principal que executa o cálculo \"\"\"\n",
    "def process_calculation(init_month, init_year, end_month, end_year):\n",
    "    print('Starting')\n",
    "    stocks = get_stocks(get_session())    \n",
    "    for stock in stocks:\n",
    "        print(stock.code)\n",
    "        for year,month in month_year_iter(init_month, init_year, end_month, end_year):\n",
    "            if year == datetime.now().year and month > datetime.now().month:\n",
    "                break\n",
    "\n",
    "            init=date(year, month, 1)\n",
    "            end=date(year, month + 11, 1)\n",
    "            item=dict(stock_id=stock.id, data_init=init, data_end=end)\n",
    "            \n",
    "            get_or_add_calculation(\n",
    "                convert_calculated_to_model(\n",
    "                    calculate(\n",
    "                        get_stockdata(get_session(), item))))\n",
    "    print('Finished')\n",
    "\n",
    "#[m for m in month_year_iter(1, 2000, 12, 2023)]\n",
    "process_calculation(1, 2000, 12, 2023)"
   ],
   "execution_count":118,
   "outputs":[
    {
     "name":"stdout",
     "text":[
      "Starting\n",
      "MGLU3.SA\n"
     ],
     "output_type":"stream"
    },
    {
     "ename":"ValueError",
     "evalue":"ValueError: cannot reindex from a duplicate axis",
     "traceback":[
      "\u001b[0;31m---------------------------------------------------------------------------",
      "Traceback (most recent call last)",
      "    at line 33 in <module>",
      "    at line 28 in process_calculation(init_month, init_year, end_month, end_year)",
      "    at line 32 in calculate(df)",
      "    at line 3612 in __setitem__(self, key, value)",
      "    at line 3784 in _set_item(self, key, value)",
      "    at line 4506 in _sanitize_column(self, value)",
      "    at line 10780 in _reindex_for_setitem(value, index)",
      "    at line 10775 in _reindex_for_setitem(value, index)",
      "    at line 4580 in reindex(self, index, **kwargs)",
      "    at line 4818 in reindex(self, *args, **kwargs)",
      "    at line 4839 in _reindex_axes(self, axes, level, limit, tolerance, method, fill_value, copy)",
      "    at line 4883 in _reindex_with_indexers(self, reindexers, fill_value, copy, allow_dups)",
      "    at line 670 in reindex_indexer(self, new_axis, indexer, axis, fill_value, allow_dups, copy, consolidate, only_slice)",
      "    at line 3785 in _validate_can_reindex(self, indexer)",
      "ValueError: cannot reindex from a duplicate axis"
     ],
     "output_type":"error"
    }
   ],
   "metadata":{
    "datalore":{
     "node_id":"6MbE97Cpnb25d7zMVXYgBF",
     "type":"CODE",
     "hide_input_from_viewers":true,
     "hide_output_from_viewers":true
    }
   }
  },
  {
   "cell_type":"code",
   "source":[
    "mydict = [{'a': 1, 'b': 2, 'c': 3, 'd': 4},\n",
    "          {'a': 100, 'b': 200, 'c': 300, 'd': 400},\n",
    "          {'a': 1000, 'b': 2000, 'c': 3000, 'd': 4000 }]\n",
    "df = pd.DataFrame(mydict)\n",
    "print(len(df))\n",
    "df"
   ],
   "execution_count":116,
   "outputs":[
    {
     "name":"stdout",
     "text":[
      "3\n"
     ],
     "output_type":"stream"
    },
    {
     "data":{
      "text\/html":[
       "<div>\n",
       "<style scoped>\n",
       "    .dataframe tbody tr th:only-of-type {\n",
       "        vertical-align: middle;\n",
       "    }\n",
       "\n",
       "    .dataframe tbody tr th {\n",
       "        vertical-align: top;\n",
       "    }\n",
       "\n",
       "    .dataframe thead th {\n",
       "        text-align: right;\n",
       "    }\n",
       "<\/style>\n",
       "<table border=\"1\" class=\"dataframe\">\n",
       "  <thead>\n",
       "    <tr style=\"text-align: right;\">\n",
       "      <th><\/th>\n",
       "      <th>a<\/th>\n",
       "      <th>b<\/th>\n",
       "      <th>c<\/th>\n",
       "      <th>d<\/th>\n",
       "    <\/tr>\n",
       "  <\/thead>\n",
       "  <tbody>\n",
       "    <tr>\n",
       "      <th>0<\/th>\n",
       "      <td>1<\/td>\n",
       "      <td>2<\/td>\n",
       "      <td>3<\/td>\n",
       "      <td>4<\/td>\n",
       "    <\/tr>\n",
       "    <tr>\n",
       "      <th>1<\/th>\n",
       "      <td>100<\/td>\n",
       "      <td>200<\/td>\n",
       "      <td>300<\/td>\n",
       "      <td>400<\/td>\n",
       "    <\/tr>\n",
       "    <tr>\n",
       "      <th>2<\/th>\n",
       "      <td>1000<\/td>\n",
       "      <td>2000<\/td>\n",
       "      <td>3000<\/td>\n",
       "      <td>4000<\/td>\n",
       "    <\/tr>\n",
       "  <\/tbody>\n",
       "<\/table>\n",
       "<\/div>"
      ]
     },
     "metadata":{
      
     },
     "output_type":"display_data"
    }
   ],
   "metadata":{
    "datalore":{
     "node_id":"p07MkbW2mznxBWrluDSjcU",
     "type":"CODE",
     "hide_input_from_viewers":true,
     "hide_output_from_viewers":true
    }
   }
  }
 ],
 "metadata":{
  "kernelspec":{
   "display_name":"Python",
   "language":"python",
   "name":"python"
  },
  "datalore":{
   "computation_mode":"JUPYTER",
   "package_manager":"pip",
   "base_environment":"default",
   "packages":[
    {
     "name":"yfinance",
     "version":"0.2.18",
     "source":"PIP"
    },
    {
     "name":"pymssql",
     "version":"2.2.7",
     "source":"PIP"
    }
   ],
   "report_row_ids":[
    
   ],
   "version":3
  }
 },
 "nbformat":4,
 "nbformat_minor":4
}